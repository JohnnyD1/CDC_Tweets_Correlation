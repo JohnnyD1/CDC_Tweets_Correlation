{
 "cells": [
  {
   "cell_type": "code",
   "execution_count": null,
   "metadata": {},
   "outputs": [],
   "source": [
    "library(rtweet)\n",
    "library(ggmap)"
   ]
  },
  {
   "cell_type": "code",
   "execution_count": null,
   "metadata": {},
   "outputs": [],
   "source": [
    "token <- create_token(app=\"TweetsFluCorrelation\",\n",
    "                      \"\", \n",
    "                      \"\",\n",
    "                     access_token=\"\",\n",
    "                     access_secret=\"\")\n",
    "register_google(key = \"\")"
   ]
  },
  {
   "cell_type": "code",
   "execution_count": null,
   "metadata": {},
   "outputs": [],
   "source": [
    "tweets2 <- search_tweets(\n",
    "  \"#flu OR flu OR #fluseason OR flu season OR #flushot OR flu shot OR #tamiflu OR tamiflu OR #gripe OR gripe\", token=token, geocode = lookup_coords(\"usa\"), \n",
    "n = 20000, include_rts=FALSE, retryonratelimit = TRUE)\n",
    "\n",
    "#write_as_csv(tweets1, \"tweets_mult_keyword2.csv\")"
   ]
  },
  {
   "cell_type": "code",
   "execution_count": null,
   "metadata": {},
   "outputs": [],
   "source": [
    "# new york city\n",
    "tweets1 <- search_tweets(\n",
    "  \"#flu OR flu OR #fluseason OR flu season OR #flushot OR flu shot OR #tamiflu OR tamiflu OR #gripe OR gripe\", token=token, geocode = lookup_coords(\"NYC\"), \n",
    "n = 2000, include_rts=FALSE, retryonratelimit = TRUE)\n",
    "\n",
    "#write_as_csv(tweets1, \"tweets_mult_keyword2.csv\")"
   ]
  },
  {
   "cell_type": "code",
   "execution_count": null,
   "metadata": {},
   "outputs": [],
   "source": [
    "tweets1$location <- \"NYC\""
   ]
  },
  {
   "cell_type": "code",
   "execution_count": null,
   "metadata": {},
   "outputs": [],
   "source": [
    "tweets_dc <- search_tweets(\n",
    "  \"#flu OR flu OR #fluseason OR flu season OR #flushot OR flu shot OR #tamiflu OR tamiflu OR #gripe OR gripe\", \n",
    "    token=token, geocode = lookup_coords(\"District of Columbia\"), \n",
    "n = 2000, include_rts=FALSE, retryonratelimit = TRUE)"
   ]
  },
  {
   "cell_type": "code",
   "execution_count": null,
   "metadata": {},
   "outputs": [],
   "source": [
    "tweets_dc$location <- \"DC\""
   ]
  },
  {
   "cell_type": "code",
   "execution_count": null,
   "metadata": {},
   "outputs": [],
   "source": [
    "tweets_pr <- search_tweets(\n",
    "  \"flu OR #flu OR #fluseason\", \n",
    "    token=token, geocode = lookup_coords(\"Puerto Rico\"), \n",
    "n = 2000, include_rts=FALSE, retryonratelimit = TRUE)"
   ]
  },
  {
   "cell_type": "code",
   "execution_count": null,
   "metadata": {},
   "outputs": [],
   "source": [
    "length(tweets_pr$location)"
   ]
  },
  {
   "cell_type": "code",
   "execution_count": null,
   "metadata": {},
   "outputs": [],
   "source": [
    "tweets_pr$location <- \"Puerto Rico\""
   ]
  },
  {
   "cell_type": "code",
   "execution_count": null,
   "metadata": {},
   "outputs": [],
   "source": []
  },
  {
   "cell_type": "code",
   "execution_count": null,
   "metadata": {},
   "outputs": [],
   "source": [
    "tweetsdf1 <- read.csv(\"tweets_mult_keyword2.csv\")\n",
    "tweetsdf1 <- data.frame(tweetsdf1)"
   ]
  },
  {
   "cell_type": "code",
   "execution_count": null,
   "metadata": {},
   "outputs": [],
   "source": [
    "length(tweetsdf1$location)\n",
    "length(tweets1$location)\n",
    "length(tweets_dc$location)\n",
    "length(tweets_pr$location)"
   ]
  },
  {
   "cell_type": "code",
   "execution_count": null,
   "metadata": {},
   "outputs": [],
   "source": [
    "tweetsdf1 <- rbind(tweetsdf1, tweets1)\n",
    "tweetsdf1 <- rbind(tweetsdf1, tweets_dc)\n",
    "tweetsdf1 <- rbind(tweetsdf1, tweets_pr)\n"
   ]
  },
  {
   "cell_type": "code",
   "execution_count": null,
   "metadata": {},
   "outputs": [],
   "source": [
    "write_as_csv(tweetsdf1, \"tweets_mult_keywordNEW.csv\")"
   ]
  },
  {
   "cell_type": "code",
   "execution_count": 1,
   "metadata": {},
   "outputs": [
    {
     "name": "stderr",
     "output_type": "stream",
     "text": [
      "Warning message:\n",
      "“package ‘ggmap’ was built under R version 3.5.2”Loading required package: ggplot2\n",
      "Google's Terms of Service: https://cloud.google.com/maps-platform/terms/.\n",
      "Please cite ggmap if you use it! See citation(\"ggmap\") for details.\n"
     ]
    }
   ],
   "source": [
    "# you can start here to run \n",
    "library(rtweet)\n",
    "library(ggmap)"
   ]
  },
  {
   "cell_type": "code",
   "execution_count": 2,
   "metadata": {},
   "outputs": [],
   "source": [
    "tweetsdf1<- read_twitter_csv(\"tweets_mult_keywordNEW.csv\")"
   ]
  },
  {
   "cell_type": "code",
   "execution_count": 3,
   "metadata": {},
   "outputs": [
    {
     "data": {
      "text/html": [
       "29586"
      ],
      "text/latex": [
       "29586"
      ],
      "text/markdown": [
       "29586"
      ],
      "text/plain": [
       "[1] 29586"
      ]
     },
     "metadata": {},
     "output_type": "display_data"
    }
   ],
   "source": [
    "length(tweetsdf1$location)"
   ]
  },
  {
   "cell_type": "code",
   "execution_count": 4,
   "metadata": {},
   "outputs": [
    {
     "data": {
      "text/html": [
       "<table>\n",
       "<thead><tr><th scope=col>State</th><th scope=col>Abbreviation</th></tr></thead>\n",
       "<tbody>\n",
       "\t<tr><td>Alabama   </td><td>AL        </td></tr>\n",
       "\t<tr><td>Alaska    </td><td>AK        </td></tr>\n",
       "\t<tr><td>Arizona   </td><td>AZ        </td></tr>\n",
       "\t<tr><td>Arkansas  </td><td>AR        </td></tr>\n",
       "\t<tr><td>California</td><td>CA        </td></tr>\n",
       "\t<tr><td>Colorado  </td><td>CO        </td></tr>\n",
       "</tbody>\n",
       "</table>\n"
      ],
      "text/latex": [
       "\\begin{tabular}{r|ll}\n",
       " State & Abbreviation\\\\\n",
       "\\hline\n",
       "\t Alabama    & AL        \\\\\n",
       "\t Alaska     & AK        \\\\\n",
       "\t Arizona    & AZ        \\\\\n",
       "\t Arkansas   & AR        \\\\\n",
       "\t California & CA        \\\\\n",
       "\t Colorado   & CO        \\\\\n",
       "\\end{tabular}\n"
      ],
      "text/markdown": [
       "\n",
       "| State | Abbreviation |\n",
       "|---|---|\n",
       "| Alabama    | AL         |\n",
       "| Alaska     | AK         |\n",
       "| Arizona    | AZ         |\n",
       "| Arkansas   | AR         |\n",
       "| California | CA         |\n",
       "| Colorado   | CO         |\n",
       "\n"
      ],
      "text/plain": [
       "  State      Abbreviation\n",
       "1 Alabama    AL          \n",
       "2 Alaska     AK          \n",
       "3 Arizona    AZ          \n",
       "4 Arkansas   AR          \n",
       "5 California CA          \n",
       "6 Colorado   CO          "
      ]
     },
     "metadata": {},
     "output_type": "display_data"
    }
   ],
   "source": [
    "# getting states data frame\n",
    "states <- read.csv(url(\"https://raw.githubusercontent.com/jasonong/List-of-US-States/master/states.csv\"))\n",
    "df <- as.data.frame(states)\n",
    "head(states)\n"
   ]
  },
  {
   "cell_type": "code",
   "execution_count": 5,
   "metadata": {},
   "outputs": [],
   "source": [
    "temp <- data.frame(\"State\"=c(\"Puerto Rico\", \"New York City\"),\"Abbreviation\"=c(\"PR\",\"NYC\"))\n",
    "\n",
    "df1 <- rbind(df, temp)"
   ]
  },
  {
   "cell_type": "code",
   "execution_count": 6,
   "metadata": {},
   "outputs": [
    {
     "data": {
      "text/html": [
       "53"
      ],
      "text/latex": [
       "53"
      ],
      "text/markdown": [
       "53"
      ],
      "text/plain": [
       "[1] 53"
      ]
     },
     "metadata": {},
     "output_type": "display_data"
    }
   ],
   "source": [
    "#length(tweetsdf1$screen_name)\n",
    "length(df1$State)"
   ]
  },
  {
   "cell_type": "code",
   "execution_count": 7,
   "metadata": {},
   "outputs": [
    {
     "data": {
      "text/html": [
       "1041"
      ],
      "text/latex": [
       "1041"
      ],
      "text/markdown": [
       "1041"
      ],
      "text/plain": [
       "[1] 1041"
      ]
     },
     "metadata": {},
     "output_type": "display_data"
    },
    {
     "data": {
      "text/html": [
       "1156"
      ],
      "text/latex": [
       "1156"
      ],
      "text/markdown": [
       "1156"
      ],
      "text/plain": [
       "[1] 1156"
      ]
     },
     "metadata": {},
     "output_type": "display_data"
    }
   ],
   "source": [
    "# need to get tweets with 2 different keywords, one for flu, another for flu season\n",
    "hashflu <- tweetsdf1[grep(\"#flu\",tweetsdf1$text, value=FALSE),]\n",
    "fluseason <- tweetsdf1[grep(\"flu season\", tweetsdf1$text, value=FALSE),]\n",
    "length(hashflu$text) \n",
    "length(fluseason$text) "
   ]
  },
  {
   "cell_type": "code",
   "execution_count": 8,
   "metadata": {},
   "outputs": [],
   "source": [
    "get_num_state <- function(tweetsdf1){\n",
    "    library(\"tidyverse\")\n",
    "    library(\"rlist\")\n",
    "    library(rlist)\n",
    "# setting up tallies for each state starting at 0 obviously\n",
    "    num_tweets <- rep(0, each=53)\n",
    "    place_full_ab <- c()\n",
    "    place_full_st <- c()\n",
    "    loc_ab <- c()\n",
    "    loc_st <- c()\n",
    "    quoted_loc_ab <- c()\n",
    "    quoted_loc_st <- c()\n",
    "\n",
    "    for (i in 1:length(df1$State))\n",
    "    {\n",
    "        # check location\n",
    "        loc_ab <- grep(df1$Abbreviation[i],  tweetsdf1$location, perl=TRUE, value=FALSE)\n",
    "        loc_st <- grep(df1$State[i],  tweetsdf1$location, perl=TRUE, value=FALSE)\n",
    "        # check place_full_name\n",
    "        place_full_ab <- grep(df1$Abbreviation[i],  tweetsdf1$place_full_name, perl=TRUE, value=FALSE)\n",
    "        place_full_st <- grep(df1$State[i], tweetsdf1$place_full_name, perl=TRUE, value=FALSE)\n",
    "        # check quoted_location\n",
    "        quoted_loc_ab <- grep(df1$Abbreviation[i], tweetsdf1$quoted_location, perl=TRUE, value=FALSE)\n",
    "        quoted_loc_st <- grep(df1$State[i], tweetsdf1$quoted_location, perl=TRUE, value=FALSE)\n",
    "        total <- list.append(place_full_ab, place_full_st)\n",
    "        total <- list.append(total, loc_ab)\n",
    "        total <- list.append(total, loc_st)\n",
    "        total <- list.append(total, quoted_loc_ab)\n",
    "        total <- list.append(total, quoted_loc_st)\n",
    "        total <- !duplicated(total)\n",
    "        #num_tweets[!duplicated(total)] <- num_tweets[!duplicated(total)] + 1\n",
    "        num_tweets[i] <- num_tweets[i] + length(total)\n",
    "    }\n",
    "    return(num_tweets)\n",
    "}\n",
    "\n"
   ]
  },
  {
   "cell_type": "code",
   "execution_count": 9,
   "metadata": {},
   "outputs": [
    {
     "name": "stderr",
     "output_type": "stream",
     "text": [
      "── Attaching packages ─────────────────────────────────────── tidyverse 1.2.1 ──\n",
      "✔ tibble  2.0.1       ✔ purrr   0.3.0  \n",
      "✔ tidyr   0.8.2       ✔ dplyr   0.8.0.1\n",
      "✔ readr   1.3.1       ✔ stringr 1.4.0  \n",
      "✔ tibble  2.0.1       ✔ forcats 0.4.0  \n",
      "Warning message:\n",
      "“package ‘tibble’ was built under R version 3.5.2”Warning message:\n",
      "“package ‘purrr’ was built under R version 3.5.2”Warning message:\n",
      "“package ‘dplyr’ was built under R version 3.5.2”Warning message:\n",
      "“package ‘stringr’ was built under R version 3.5.2”── Conflicts ────────────────────────────────────────── tidyverse_conflicts() ──\n",
      "✖ dplyr::filter()  masks stats::filter()\n",
      "✖ purrr::flatten() masks rtweet::flatten()\n",
      "✖ dplyr::lag()     masks stats::lag()\n"
     ]
    }
   ],
   "source": [
    "df1$MULT.KEYWORDS <-  get_num_state(tweetsdf1)\n",
    "df1$KEYWORD.HASHFLU <- get_num_state(hashflu)\n",
    "df1$KEYWORD.FLUSEASON <- get_num_state(fluseason)"
   ]
  },
  {
   "cell_type": "code",
   "execution_count": 10,
   "metadata": {},
   "outputs": [
    {
     "data": {
      "text/html": [
       "<table>\n",
       "<thead><tr><th scope=col>State</th><th scope=col>Abbreviation</th><th scope=col>MULT.KEYWORDS</th><th scope=col>KEYWORD.HASHFLU</th><th scope=col>KEYWORD.FLUSEASON</th></tr></thead>\n",
       "<tbody>\n",
       "\t<tr><td>Alabama   </td><td>AL        </td><td> 457      </td><td>15        </td><td>16        </td></tr>\n",
       "\t<tr><td>Alaska    </td><td>AK        </td><td>  17      </td><td> 1        </td><td> 1        </td></tr>\n",
       "\t<tr><td>Arizona   </td><td>AZ        </td><td> 362      </td><td>15        </td><td>13        </td></tr>\n",
       "\t<tr><td>Arkansas  </td><td>AR        </td><td> 267      </td><td>11        </td><td> 6        </td></tr>\n",
       "\t<tr><td>California</td><td>CA        </td><td>2297      </td><td>72        </td><td>86        </td></tr>\n",
       "\t<tr><td>Colorado  </td><td>CO        </td><td> 333      </td><td>10        </td><td>24        </td></tr>\n",
       "</tbody>\n",
       "</table>\n"
      ],
      "text/latex": [
       "\\begin{tabular}{r|lllll}\n",
       " State & Abbreviation & MULT.KEYWORDS & KEYWORD.HASHFLU & KEYWORD.FLUSEASON\\\\\n",
       "\\hline\n",
       "\t Alabama    & AL         &  457       & 15         & 16        \\\\\n",
       "\t Alaska     & AK         &   17       &  1         &  1        \\\\\n",
       "\t Arizona    & AZ         &  362       & 15         & 13        \\\\\n",
       "\t Arkansas   & AR         &  267       & 11         &  6        \\\\\n",
       "\t California & CA         & 2297       & 72         & 86        \\\\\n",
       "\t Colorado   & CO         &  333       & 10         & 24        \\\\\n",
       "\\end{tabular}\n"
      ],
      "text/markdown": [
       "\n",
       "| State | Abbreviation | MULT.KEYWORDS | KEYWORD.HASHFLU | KEYWORD.FLUSEASON |\n",
       "|---|---|---|---|---|\n",
       "| Alabama    | AL         |  457       | 15         | 16         |\n",
       "| Alaska     | AK         |   17       |  1         |  1         |\n",
       "| Arizona    | AZ         |  362       | 15         | 13         |\n",
       "| Arkansas   | AR         |  267       | 11         |  6         |\n",
       "| California | CA         | 2297       | 72         | 86         |\n",
       "| Colorado   | CO         |  333       | 10         | 24         |\n",
       "\n"
      ],
      "text/plain": [
       "  State      Abbreviation MULT.KEYWORDS KEYWORD.HASHFLU KEYWORD.FLUSEASON\n",
       "1 Alabama    AL            457          15              16               \n",
       "2 Alaska     AK             17           1               1               \n",
       "3 Arizona    AZ            362          15              13               \n",
       "4 Arkansas   AR            267          11               6               \n",
       "5 California CA           2297          72              86               \n",
       "6 Colorado   CO            333          10              24               "
      ]
     },
     "metadata": {},
     "output_type": "display_data"
    }
   ],
   "source": [
    "head(df1)\n"
   ]
  },
  {
   "cell_type": "code",
   "execution_count": 11,
   "metadata": {},
   "outputs": [],
   "source": [
    "# now we just plot them"
   ]
  },
  {
   "cell_type": "code",
   "execution_count": 12,
   "metadata": {},
   "outputs": [],
   "source": [
    "# gotta get the ranges\n",
    "# max - min to get the total amount\n",
    "# piece divide up total by 10\n",
    "# (min to (min + piece)), ((min + piece+1) to min + 2*piece), ((min+2*piece+1) to (min+3*piece))\n",
    "get_ranges <- function(COLUMN)\n",
    "{\n",
    "    min_mult <- min(COLUMN)\n",
    "    max_mult <- max(COLUMN)\n",
    "\n",
    "    rng <- ((max_mult - min_mult) / 10)\n",
    "    rng\n",
    "    ranges_mult <- c(min_mult+rng, min_mult+2*rng, min_mult+3*rng, min_mult+4*rng, min_mult+5*rng,\n",
    "           min_mult+6*rng, min_mult+7*rng, min_mult+8*rng, min_mult+9*rng, max_mult)\n",
    "    mult_levels <- c()\n",
    "    ranges_mult\n",
    "    for (x in COLUMN)\n",
    "    {\n",
    "        for (i in 1:10){\n",
    "            if (as.numeric(x) <= ranges_mult[i]){\n",
    "                mult_levels <- c(mult_levels, i)\n",
    "                break\n",
    "            }\n",
    "        }\n",
    "    }\n",
    "    return(mult_levels)\n",
    "}"
   ]
  },
  {
   "cell_type": "code",
   "execution_count": 13,
   "metadata": {},
   "outputs": [],
   "source": [
    "df1$MULT.LEVELS = get_ranges(df1$MULT.KEYWORDS)\n",
    "df1$HASHFLU.LEVELS = get_ranges(df1$KEYWORD.HASHFLU)\n",
    "df1$FLUSEASON.LEVELS = get_ranges(df1$KEYWORD.FLUSEASON)"
   ]
  },
  {
   "cell_type": "code",
   "execution_count": 14,
   "metadata": {},
   "outputs": [
    {
     "data": {
      "text/html": [
       "<table>\n",
       "<thead><tr><th scope=col>State</th><th scope=col>Abbreviation</th><th scope=col>MULT.KEYWORDS</th><th scope=col>KEYWORD.HASHFLU</th><th scope=col>KEYWORD.FLUSEASON</th><th scope=col>MULT.LEVELS</th><th scope=col>HASHFLU.LEVELS</th><th scope=col>FLUSEASON.LEVELS</th></tr></thead>\n",
       "<tbody>\n",
       "\t<tr><td>Alabama   </td><td>AL        </td><td> 457      </td><td>15        </td><td>16        </td><td>2         </td><td>2         </td><td>2         </td></tr>\n",
       "\t<tr><td>Alaska    </td><td>AK        </td><td>  17      </td><td> 1        </td><td> 1        </td><td>1         </td><td>1         </td><td>1         </td></tr>\n",
       "\t<tr><td>Arizona   </td><td>AZ        </td><td> 362      </td><td>15        </td><td>13        </td><td>2         </td><td>2         </td><td>2         </td></tr>\n",
       "\t<tr><td>Arkansas  </td><td>AR        </td><td> 267      </td><td>11        </td><td> 6        </td><td>1         </td><td>2         </td><td>1         </td></tr>\n",
       "\t<tr><td>California</td><td>CA        </td><td>2297      </td><td>72        </td><td>86        </td><td>9         </td><td>9         </td><td>9         </td></tr>\n",
       "\t<tr><td>Colorado  </td><td>CO        </td><td> 333      </td><td>10        </td><td>24        </td><td>2         </td><td>2         </td><td>3         </td></tr>\n",
       "</tbody>\n",
       "</table>\n"
      ],
      "text/latex": [
       "\\begin{tabular}{r|llllllll}\n",
       " State & Abbreviation & MULT.KEYWORDS & KEYWORD.HASHFLU & KEYWORD.FLUSEASON & MULT.LEVELS & HASHFLU.LEVELS & FLUSEASON.LEVELS\\\\\n",
       "\\hline\n",
       "\t Alabama    & AL         &  457       & 15         & 16         & 2          & 2          & 2         \\\\\n",
       "\t Alaska     & AK         &   17       &  1         &  1         & 1          & 1          & 1         \\\\\n",
       "\t Arizona    & AZ         &  362       & 15         & 13         & 2          & 2          & 2         \\\\\n",
       "\t Arkansas   & AR         &  267       & 11         &  6         & 1          & 2          & 1         \\\\\n",
       "\t California & CA         & 2297       & 72         & 86         & 9          & 9          & 9         \\\\\n",
       "\t Colorado   & CO         &  333       & 10         & 24         & 2          & 2          & 3         \\\\\n",
       "\\end{tabular}\n"
      ],
      "text/markdown": [
       "\n",
       "| State | Abbreviation | MULT.KEYWORDS | KEYWORD.HASHFLU | KEYWORD.FLUSEASON | MULT.LEVELS | HASHFLU.LEVELS | FLUSEASON.LEVELS |\n",
       "|---|---|---|---|---|---|---|---|\n",
       "| Alabama    | AL         |  457       | 15         | 16         | 2          | 2          | 2          |\n",
       "| Alaska     | AK         |   17       |  1         |  1         | 1          | 1          | 1          |\n",
       "| Arizona    | AZ         |  362       | 15         | 13         | 2          | 2          | 2          |\n",
       "| Arkansas   | AR         |  267       | 11         |  6         | 1          | 2          | 1          |\n",
       "| California | CA         | 2297       | 72         | 86         | 9          | 9          | 9          |\n",
       "| Colorado   | CO         |  333       | 10         | 24         | 2          | 2          | 3          |\n",
       "\n"
      ],
      "text/plain": [
       "  State      Abbreviation MULT.KEYWORDS KEYWORD.HASHFLU KEYWORD.FLUSEASON\n",
       "1 Alabama    AL            457          15              16               \n",
       "2 Alaska     AK             17           1               1               \n",
       "3 Arizona    AZ            362          15              13               \n",
       "4 Arkansas   AR            267          11               6               \n",
       "5 California CA           2297          72              86               \n",
       "6 Colorado   CO            333          10              24               \n",
       "  MULT.LEVELS HASHFLU.LEVELS FLUSEASON.LEVELS\n",
       "1 2           2              2               \n",
       "2 1           1              1               \n",
       "3 2           2              2               \n",
       "4 1           2              1               \n",
       "5 9           9              9               \n",
       "6 2           2              3               "
      ]
     },
     "metadata": {},
     "output_type": "display_data"
    }
   ],
   "source": [
    "head(df1)"
   ]
  },
  {
   "cell_type": "code",
   "execution_count": 15,
   "metadata": {},
   "outputs": [],
   "source": [
    "library(ggplot2)"
   ]
  },
  {
   "cell_type": "code",
   "execution_count": 16,
   "metadata": {},
   "outputs": [
    {
     "data": {
      "text/html": [
       "'/Users/JohnnyD/Documents/CSE487/Lab1EDApart3'"
      ],
      "text/latex": [
       "'/Users/JohnnyD/Documents/CSE487/Lab1EDApart3'"
      ],
      "text/markdown": [
       "'/Users/JohnnyD/Documents/CSE487/Lab1EDApart3'"
      ],
      "text/plain": [
       "[1] \"/Users/JohnnyD/Documents/CSE487/Lab1EDApart3\""
      ]
     },
     "metadata": {},
     "output_type": "display_data"
    }
   ],
   "source": [
    "getwd()"
   ]
  },
  {
   "cell_type": "code",
   "execution_count": 17,
   "metadata": {},
   "outputs": [
    {
     "name": "stderr",
     "output_type": "stream",
     "text": [
      "Warning message:\n",
      "“Column `state_name` joining factors with different levels, coercing to character vector”"
     ]
    },
    {
     "data": {
      "text/html": [
       "<table>\n",
       "<thead><tr><th scope=col>X</th><th scope=col>long</th><th scope=col>lat</th><th scope=col>order</th><th scope=col>group</th><th scope=col>state_name</th><th scope=col>LEVEL</th><th scope=col>group2</th><th scope=col>Abbreviation</th><th scope=col>MULT.KEYWORDS</th><th scope=col>KEYWORD.HASHFLU</th><th scope=col>KEYWORD.FLUSEASON</th><th scope=col>MULT.LEVELS</th><th scope=col>HASHFLU.LEVELS</th><th scope=col>FLUSEASON.LEVELS</th></tr></thead>\n",
       "<tbody>\n",
       "\t<tr><td>1        </td><td>-88.47323</td><td>31.89386 </td><td>1        </td><td>1.1      </td><td>Alabama  </td><td>10       </td><td>1        </td><td>AL       </td><td>457      </td><td>15       </td><td>16       </td><td>2        </td><td>2        </td><td>2        </td></tr>\n",
       "\t<tr><td>2        </td><td>-88.46888</td><td>31.93026 </td><td>2        </td><td>1.1      </td><td>Alabama  </td><td>10       </td><td>1        </td><td>AL       </td><td>457      </td><td>15       </td><td>16       </td><td>2        </td><td>2        </td><td>2        </td></tr>\n",
       "\t<tr><td>3        </td><td>-88.46866</td><td>31.93317 </td><td>3        </td><td>1.1      </td><td>Alabama  </td><td>10       </td><td>1        </td><td>AL       </td><td>457      </td><td>15       </td><td>16       </td><td>2        </td><td>2        </td><td>2        </td></tr>\n",
       "\t<tr><td>4        </td><td>-88.45504</td><td>32.03972 </td><td>4        </td><td>1.1      </td><td>Alabama  </td><td>10       </td><td>1        </td><td>AL       </td><td>457      </td><td>15       </td><td>16       </td><td>2        </td><td>2        </td><td>2        </td></tr>\n",
       "\t<tr><td>5        </td><td>-88.45496</td><td>32.04058 </td><td>5        </td><td>1.1      </td><td>Alabama  </td><td>10       </td><td>1        </td><td>AL       </td><td>457      </td><td>15       </td><td>16       </td><td>2        </td><td>2        </td><td>2        </td></tr>\n",
       "\t<tr><td>6        </td><td>-88.45342</td><td>32.05305 </td><td>6        </td><td>1.1      </td><td>Alabama  </td><td>10       </td><td>1        </td><td>AL       </td><td>457      </td><td>15       </td><td>16       </td><td>2        </td><td>2        </td><td>2        </td></tr>\n",
       "</tbody>\n",
       "</table>\n"
      ],
      "text/latex": [
       "\\begin{tabular}{r|lllllllllllllll}\n",
       " X & long & lat & order & group & state\\_name & LEVEL & group2 & Abbreviation & MULT.KEYWORDS & KEYWORD.HASHFLU & KEYWORD.FLUSEASON & MULT.LEVELS & HASHFLU.LEVELS & FLUSEASON.LEVELS\\\\\n",
       "\\hline\n",
       "\t 1         & -88.47323 & 31.89386  & 1         & 1.1       & Alabama   & 10        & 1         & AL        & 457       & 15        & 16        & 2         & 2         & 2        \\\\\n",
       "\t 2         & -88.46888 & 31.93026  & 2         & 1.1       & Alabama   & 10        & 1         & AL        & 457       & 15        & 16        & 2         & 2         & 2        \\\\\n",
       "\t 3         & -88.46866 & 31.93317  & 3         & 1.1       & Alabama   & 10        & 1         & AL        & 457       & 15        & 16        & 2         & 2         & 2        \\\\\n",
       "\t 4         & -88.45504 & 32.03972  & 4         & 1.1       & Alabama   & 10        & 1         & AL        & 457       & 15        & 16        & 2         & 2         & 2        \\\\\n",
       "\t 5         & -88.45496 & 32.04058  & 5         & 1.1       & Alabama   & 10        & 1         & AL        & 457       & 15        & 16        & 2         & 2         & 2        \\\\\n",
       "\t 6         & -88.45342 & 32.05305  & 6         & 1.1       & Alabama   & 10        & 1         & AL        & 457       & 15        & 16        & 2         & 2         & 2        \\\\\n",
       "\\end{tabular}\n"
      ],
      "text/markdown": [
       "\n",
       "| X | long | lat | order | group | state_name | LEVEL | group2 | Abbreviation | MULT.KEYWORDS | KEYWORD.HASHFLU | KEYWORD.FLUSEASON | MULT.LEVELS | HASHFLU.LEVELS | FLUSEASON.LEVELS |\n",
       "|---|---|---|---|---|---|---|---|---|---|---|---|---|---|---|\n",
       "| 1         | -88.47323 | 31.89386  | 1         | 1.1       | Alabama   | 10        | 1         | AL        | 457       | 15        | 16        | 2         | 2         | 2         |\n",
       "| 2         | -88.46888 | 31.93026  | 2         | 1.1       | Alabama   | 10        | 1         | AL        | 457       | 15        | 16        | 2         | 2         | 2         |\n",
       "| 3         | -88.46866 | 31.93317  | 3         | 1.1       | Alabama   | 10        | 1         | AL        | 457       | 15        | 16        | 2         | 2         | 2         |\n",
       "| 4         | -88.45504 | 32.03972  | 4         | 1.1       | Alabama   | 10        | 1         | AL        | 457       | 15        | 16        | 2         | 2         | 2         |\n",
       "| 5         | -88.45496 | 32.04058  | 5         | 1.1       | Alabama   | 10        | 1         | AL        | 457       | 15        | 16        | 2         | 2         | 2         |\n",
       "| 6         | -88.45342 | 32.05305  | 6         | 1.1       | Alabama   | 10        | 1         | AL        | 457       | 15        | 16        | 2         | 2         | 2         |\n",
       "\n"
      ],
      "text/plain": [
       "  X long      lat      order group state_name LEVEL group2 Abbreviation\n",
       "1 1 -88.47323 31.89386 1     1.1   Alabama    10    1      AL          \n",
       "2 2 -88.46888 31.93026 2     1.1   Alabama    10    1      AL          \n",
       "3 3 -88.46866 31.93317 3     1.1   Alabama    10    1      AL          \n",
       "4 4 -88.45504 32.03972 4     1.1   Alabama    10    1      AL          \n",
       "5 5 -88.45496 32.04058 5     1.1   Alabama    10    1      AL          \n",
       "6 6 -88.45342 32.05305 6     1.1   Alabama    10    1      AL          \n",
       "  MULT.KEYWORDS KEYWORD.HASHFLU KEYWORD.FLUSEASON MULT.LEVELS HASHFLU.LEVELS\n",
       "1 457           15              16                2           2             \n",
       "2 457           15              16                2           2             \n",
       "3 457           15              16                2           2             \n",
       "4 457           15              16                2           2             \n",
       "5 457           15              16                2           2             \n",
       "6 457           15              16                2           2             \n",
       "  FLUSEASON.LEVELS\n",
       "1 2               \n",
       "2 2               \n",
       "3 2               \n",
       "4 2               \n",
       "5 2               \n",
       "6 2               "
      ]
     },
     "metadata": {},
     "output_type": "display_data"
    }
   ],
   "source": [
    "# get all 50 states plus DC\n",
    "df1$state_name = df1$State\n",
    "df1$State = NULL\n",
    "\n",
    "data <- read.csv(\"StateData.csv\")\n",
    "sts <- data.frame(data)\n",
    "sts <- fortify(sts)\n",
    "sts1 <- sts %>% left_join(df1, by = \"state_name\")\n",
    "\n",
    "head(sts1)"
   ]
  },
  {
   "cell_type": "code",
   "execution_count": 18,
   "metadata": {},
   "outputs": [],
   "source": [
    "sts1$group <- sts1$group2\n",
    "sts1$group2 <- NULL"
   ]
  },
  {
   "cell_type": "code",
   "execution_count": 19,
   "metadata": {},
   "outputs": [],
   "source": [
    "# getting weird polygon issues with alaska, so gonna remove some coordinates\n",
    "#sts1<- sts1[-seq(10000,11640,1),]"
   ]
  },
  {
   "cell_type": "code",
   "execution_count": 20,
   "metadata": {},
   "outputs": [
    {
     "data": {
      "text/html": [
       "<table>\n",
       "<thead><tr><th scope=col>X</th><th scope=col>long</th><th scope=col>lat</th><th scope=col>order</th><th scope=col>group</th><th scope=col>state_name</th><th scope=col>LEVEL</th><th scope=col>Abbreviation</th><th scope=col>MULT.KEYWORDS</th><th scope=col>KEYWORD.HASHFLU</th><th scope=col>KEYWORD.FLUSEASON</th><th scope=col>MULT.LEVELS</th><th scope=col>HASHFLU.LEVELS</th><th scope=col>FLUSEASON.LEVELS</th></tr></thead>\n",
       "<tbody>\n",
       "\t<tr><td>1        </td><td>-88.47323</td><td>31.89386 </td><td>1        </td><td>1        </td><td>Alabama  </td><td>10       </td><td>AL       </td><td>457      </td><td>15       </td><td>16       </td><td>2        </td><td>2        </td><td>2        </td></tr>\n",
       "\t<tr><td>2        </td><td>-88.46888</td><td>31.93026 </td><td>2        </td><td>1        </td><td>Alabama  </td><td>10       </td><td>AL       </td><td>457      </td><td>15       </td><td>16       </td><td>2        </td><td>2        </td><td>2        </td></tr>\n",
       "\t<tr><td>3        </td><td>-88.46866</td><td>31.93317 </td><td>3        </td><td>1        </td><td>Alabama  </td><td>10       </td><td>AL       </td><td>457      </td><td>15       </td><td>16       </td><td>2        </td><td>2        </td><td>2        </td></tr>\n",
       "\t<tr><td>4        </td><td>-88.45504</td><td>32.03972 </td><td>4        </td><td>1        </td><td>Alabama  </td><td>10       </td><td>AL       </td><td>457      </td><td>15       </td><td>16       </td><td>2        </td><td>2        </td><td>2        </td></tr>\n",
       "\t<tr><td>5        </td><td>-88.45496</td><td>32.04058 </td><td>5        </td><td>1        </td><td>Alabama  </td><td>10       </td><td>AL       </td><td>457      </td><td>15       </td><td>16       </td><td>2        </td><td>2        </td><td>2        </td></tr>\n",
       "\t<tr><td>6        </td><td>-88.45342</td><td>32.05305 </td><td>6        </td><td>1        </td><td>Alabama  </td><td>10       </td><td>AL       </td><td>457      </td><td>15       </td><td>16       </td><td>2        </td><td>2        </td><td>2        </td></tr>\n",
       "</tbody>\n",
       "</table>\n"
      ],
      "text/latex": [
       "\\begin{tabular}{r|llllllllllllll}\n",
       " X & long & lat & order & group & state\\_name & LEVEL & Abbreviation & MULT.KEYWORDS & KEYWORD.HASHFLU & KEYWORD.FLUSEASON & MULT.LEVELS & HASHFLU.LEVELS & FLUSEASON.LEVELS\\\\\n",
       "\\hline\n",
       "\t 1         & -88.47323 & 31.89386  & 1         & 1         & Alabama   & 10        & AL        & 457       & 15        & 16        & 2         & 2         & 2        \\\\\n",
       "\t 2         & -88.46888 & 31.93026  & 2         & 1         & Alabama   & 10        & AL        & 457       & 15        & 16        & 2         & 2         & 2        \\\\\n",
       "\t 3         & -88.46866 & 31.93317  & 3         & 1         & Alabama   & 10        & AL        & 457       & 15        & 16        & 2         & 2         & 2        \\\\\n",
       "\t 4         & -88.45504 & 32.03972  & 4         & 1         & Alabama   & 10        & AL        & 457       & 15        & 16        & 2         & 2         & 2        \\\\\n",
       "\t 5         & -88.45496 & 32.04058  & 5         & 1         & Alabama   & 10        & AL        & 457       & 15        & 16        & 2         & 2         & 2        \\\\\n",
       "\t 6         & -88.45342 & 32.05305  & 6         & 1         & Alabama   & 10        & AL        & 457       & 15        & 16        & 2         & 2         & 2        \\\\\n",
       "\\end{tabular}\n"
      ],
      "text/markdown": [
       "\n",
       "| X | long | lat | order | group | state_name | LEVEL | Abbreviation | MULT.KEYWORDS | KEYWORD.HASHFLU | KEYWORD.FLUSEASON | MULT.LEVELS | HASHFLU.LEVELS | FLUSEASON.LEVELS |\n",
       "|---|---|---|---|---|---|---|---|---|---|---|---|---|---|\n",
       "| 1         | -88.47323 | 31.89386  | 1         | 1         | Alabama   | 10        | AL        | 457       | 15        | 16        | 2         | 2         | 2         |\n",
       "| 2         | -88.46888 | 31.93026  | 2         | 1         | Alabama   | 10        | AL        | 457       | 15        | 16        | 2         | 2         | 2         |\n",
       "| 3         | -88.46866 | 31.93317  | 3         | 1         | Alabama   | 10        | AL        | 457       | 15        | 16        | 2         | 2         | 2         |\n",
       "| 4         | -88.45504 | 32.03972  | 4         | 1         | Alabama   | 10        | AL        | 457       | 15        | 16        | 2         | 2         | 2         |\n",
       "| 5         | -88.45496 | 32.04058  | 5         | 1         | Alabama   | 10        | AL        | 457       | 15        | 16        | 2         | 2         | 2         |\n",
       "| 6         | -88.45342 | 32.05305  | 6         | 1         | Alabama   | 10        | AL        | 457       | 15        | 16        | 2         | 2         | 2         |\n",
       "\n"
      ],
      "text/plain": [
       "  X long      lat      order group state_name LEVEL Abbreviation MULT.KEYWORDS\n",
       "1 1 -88.47323 31.89386 1     1     Alabama    10    AL           457          \n",
       "2 2 -88.46888 31.93026 2     1     Alabama    10    AL           457          \n",
       "3 3 -88.46866 31.93317 3     1     Alabama    10    AL           457          \n",
       "4 4 -88.45504 32.03972 4     1     Alabama    10    AL           457          \n",
       "5 5 -88.45496 32.04058 5     1     Alabama    10    AL           457          \n",
       "6 6 -88.45342 32.05305 6     1     Alabama    10    AL           457          \n",
       "  KEYWORD.HASHFLU KEYWORD.FLUSEASON MULT.LEVELS HASHFLU.LEVELS FLUSEASON.LEVELS\n",
       "1 15              16                2           2              2               \n",
       "2 15              16                2           2              2               \n",
       "3 15              16                2           2              2               \n",
       "4 15              16                2           2              2               \n",
       "5 15              16                2           2              2               \n",
       "6 15              16                2           2              2               "
      ]
     },
     "metadata": {},
     "output_type": "display_data"
    }
   ],
   "source": [
    "head(sts1)"
   ]
  },
  {
   "cell_type": "code",
   "execution_count": null,
   "metadata": {},
   "outputs": [],
   "source": []
  },
  {
   "cell_type": "code",
   "execution_count": 21,
   "metadata": {},
   "outputs": [],
   "source": [
    "\n",
    "df_mult_key <- sts1[,c(\"state_name\",\"MULT.LEVELS\",\"long\",\"lat\",\"group\")]\n",
    "df_mult_key$LEVEL <- df_mult_key$MULT.LEVELS\n",
    "df_mult_key$MULT.LEVELS <- NULL\n",
    "df_flu_key <- sts1[,c(\"state_name\",\"HASHFLU.LEVELS\",\"long\",\"lat\",\"group\")]\n",
    "df_flu_key$LEVEL <- df_flu_key$HASHFLU.LEVELS\n",
    "df_flu_key$HASHFLU.LEVELS <- NULL\n",
    "df_fluseason_key <- sts1[,c(\"state_name\",\"FLUSEASON.LEVELS\",\"long\",\"lat\",\"group\")]\n",
    "df_fluseason_key$LEVEL <- df_fluseason_key$FLUSEASON.LEVELS\n",
    "df_fluseason_key$FLUSEASON.LEVELS <- NULL"
   ]
  },
  {
   "cell_type": "code",
   "execution_count": 22,
   "metadata": {},
   "outputs": [],
   "source": [
    "#head(df_mult_key)\n",
    "#head(df_flu_key)\n",
    "#head(df_fluseason_key)\n",
    "#head(df_mult_key)"
   ]
  },
  {
   "cell_type": "code",
   "execution_count": null,
   "metadata": {},
   "outputs": [],
   "source": []
  },
  {
   "cell_type": "code",
   "execution_count": 23,
   "metadata": {},
   "outputs": [
    {
     "name": "stderr",
     "output_type": "stream",
     "text": [
      "Warning message:\n",
      "“package ‘data.table’ was built under R version 3.5.2”\n",
      "Attaching package: ‘data.table’\n",
      "\n",
      "The following objects are masked from ‘package:dplyr’:\n",
      "\n",
      "    between, first, last\n",
      "\n",
      "The following object is masked from ‘package:purrr’:\n",
      "\n",
      "    transpose\n",
      "\n"
     ]
    }
   ],
   "source": [
    "# and here we do the extremely tedious task of putting lines and labels to the legend items\n",
    "# heavily taken from stackoverflow\n",
    "# create data to plot the legend\n",
    "# x and y to create a vertical row of points\n",
    "# all levels of the variable to be represented in the legend (here z)\n",
    "library(data.table)\n",
    "d <- data.table(x = 1, y = 1:10, z = factor(1:10))\n",
    "colors <- c(\"10\"=\"#CC0000\",\"9\"=\"#FF4500\",\"8\"=\"#FF8C00\", \"7\"=\"#FFA500\",\"6\"=\"#FFD700\", \"5\"=\"#E6FF00\",\"4\"=\"#ABFA33\",\"3\"=\"#97FA33\",\"2\"=\"#3EFC04\",\"1\"=\"#0BE404\")\n",
    "# cut z into groups which should be displayed as text in legend\n",
    "d[ , grp := cut(as.numeric(z), breaks = c(0, 2, 5, 7, 11),\n",
    "                labels = c(\"   Minimal\", \"Low\", \"      Moderate\", \"High\"))]\n",
    "\n",
    "# calculate the start, end and mid points of each group\n",
    "# used for vertical segments\n",
    "d2 <- d[ , .(x = 1, y = min(y), yend = max(y), ymid = mean(y)), by = grp]\n",
    "\n",
    "# end points of segments in long format, used for horizontal 'ticks' on the segments  \n",
    "d3 <- data.table(x = 1, y = unlist(d2[ , .(y, yend)]))\n",
    "\n",
    "# offset\n",
    "v <- 0.5\n",
    "# plot the 'legend'\n",
    "p2 <- ggplot(mapping = aes(x = x-1, y = y)) +\n",
    "  geom_point(data = d, aes(color = z), size = 5) +\n",
    "  geom_segment(data = d2,\n",
    "               aes(x = x + v-1, xend = x + v-1, yend = yend)) +\n",
    "  geom_segment(data = d3,\n",
    "               aes(x = x + v-1, xend = x + (v - 0.1)-1, yend = y)) +\n",
    "  geom_text(data = d2, aes(x = x + v - 0.4, y = ymid, label = grp)) +\n",
    "  scale_color_manual(values = colors, guide = FALSE) +\n",
    "  scale_x_continuous(limits = c(0, 4)) +\n",
    "  theme(axis.text.x = element_blank(), \n",
    "        axis.text.y = element_blank(), \n",
    "        axis.ticks = element_blank(),\n",
    "        axis.title.y=element_blank(),\n",
    "        axis.title.x=element_blank(),\n",
    "        axis.line=element_blank())+\n",
    "coord_fixed(ratio = 0.4)+\n",
    "  theme_void()\n",
    "\n"
   ]
  },
  {
   "cell_type": "code",
   "execution_count": 24,
   "metadata": {},
   "outputs": [],
   "source": [
    "#Ok now we plot\n",
    "\n",
    "# has all 50 states plus DC\n",
    "plot_heatmap <- function (df,str)\n",
    "{\n",
    "\n",
    "    attach(df)\n",
    "\n",
    "    \n",
    "# plotting single keyword \n",
    "    \n",
    "\n",
    "\n",
    "    g <- ggplot(df ) +\n",
    "      geom_polygon(aes(long, lat, group = group, fill=factor(LEVEL)),color = \"gray\", size = .05) +\n",
    "      scale_fill_manual(breaks=LEVEL, values=colors) + \n",
    "      annotate(\"text\", label = \"Alaska\", x =-122.794213 , y = 30.569676, size = 3, colour = \"black\")+\n",
    "      annotate(\"text\", label = \"Hawaii\", x =-108.794213 , y = 29.569676, size = 3, colour = \"black\")+\n",
    "      annotate(\"text\", label = \"Puerto Rico\", x =-88.794213 , y = 25.569676, size = 3, colour = \"black\")+\n",
    "      annotate(\"text\", label = \"District of Columbia\", x =-70.794213 , y = 34.569676, size = 3, colour = \"black\")+\n",
    "      annotate(\"text\", label = \"New York City\", x =-68.794213 , y = 38.569676, size = 3, colour = \"black\")+\n",
    "  #,breaks=c(\"10\",\"9\", \"8\",\"7\",  \"6\",\"5\", \"4\",  \"3\", \"2\",\"1\"),\n",
    "  #  labels=c(\"\",\"\",\"\",\"\",\"\",\"\",\"\",\"\",\"\",\"\"))+\n",
    "      coord_map(projection = \"mercator\") +\n",
    "      ggtitle(paste(str,\"\\nFeb 16th to 26th, 2019\",sep=\"\"))+\n",
    "      theme(plot.title = element_text(face = \"bold\",hjust=.5,size=11), \n",
    "        legend.position = \"none\",\n",
    "        axis.text.x = element_blank(), axis.text.y = element_blank(), axis.ticks = element_blank(),\n",
    "        axis.title.y=element_blank(),axis.title.x=element_blank(),\n",
    "        axis.line=element_blank()) \n",
    "    detach(df)\n",
    "    return (g)\n",
    "}"
   ]
  },
  {
   "cell_type": "code",
   "execution_count": 25,
   "metadata": {},
   "outputs": [],
   "source": [
    "#head(df_mult_key$LEVEL)"
   ]
  },
  {
   "cell_type": "code",
   "execution_count": 26,
   "metadata": {},
   "outputs": [],
   "source": [
    "#plot_heatmap(df_mult_key,\"Multiple Keywords Related to Flu, \")"
   ]
  },
  {
   "cell_type": "code",
   "execution_count": 38,
   "metadata": {},
   "outputs": [],
   "source": [
    "library(cowplot)\n",
    "pg <- plot_grid(plot_heatmap(df_mult_key,\"Multiple Keywords Related to Flu, \"),\n",
    "    plot_grid(NULL, p2, NULL, nrow = 3, rel_heights = c(1, 1.5, 1)),\n",
    "    rel_widths = c(2, 1)) +draw_label(\"Tweets per State\", .65, 0.75, hjust = 0, vjust = 0,size=10)\n",
    "\n",
    "\n"
   ]
  },
  {
   "cell_type": "code",
   "execution_count": 40,
   "metadata": {},
   "outputs": [],
   "source": [
    "ggsave(\"HeatMapMultKeys.png\",pg,width=7,height=4)"
   ]
  },
  {
   "cell_type": "code",
   "execution_count": null,
   "metadata": {},
   "outputs": [],
   "source": []
  },
  {
   "cell_type": "code",
   "execution_count": 29,
   "metadata": {},
   "outputs": [],
   "source": [
    "pg2 <- plot_grid(plot_heatmap(df_flu_key, \"Tweet Keyword '#flu'\"),\n",
    "    plot_grid(NULL, p2, NULL, nrow = 3, rel_heights = c(1, 1.5, 1)),\n",
    "    rel_widths = c(2, 1)) +draw_label(\"Tweets per State\", .65, 0.75, hjust = 0, vjust = 0,size=10)"
   ]
  },
  {
   "cell_type": "code",
   "execution_count": 34,
   "metadata": {},
   "outputs": [
    {
     "name": "stderr",
     "output_type": "stream",
     "text": [
      "Saving 7 x 4 in image\n"
     ]
    }
   ],
   "source": [
    "ggsave(\"HeatMapHashFluKey.png\",pg2,height=4)"
   ]
  },
  {
   "cell_type": "code",
   "execution_count": 31,
   "metadata": {},
   "outputs": [],
   "source": [
    "pg3 <- plot_grid(plot_heatmap(df_fluseason_key, \"Tweet Keyword 'flu season'\"),\n",
    "    plot_grid(NULL, p2, NULL, nrow = 3, rel_heights = c(1, 1.5, 1)),\n",
    "    rel_widths = c(2, 1)) +draw_label(\"Tweets per State\", .65, 0.75, hjust = 0, vjust = 0,size=10)"
   ]
  },
  {
   "cell_type": "code",
   "execution_count": 35,
   "metadata": {},
   "outputs": [
    {
     "name": "stderr",
     "output_type": "stream",
     "text": [
      "Saving 7 x 4 in image\n"
     ]
    }
   ],
   "source": [
    "ggsave(\"HeatMapFluSeasonKey.png\",pg3,height=4)"
   ]
  },
  {
   "cell_type": "code",
   "execution_count": null,
   "metadata": {},
   "outputs": [],
   "source": []
  }
 ],
 "metadata": {
  "kernelspec": {
   "display_name": "R",
   "language": "R",
   "name": "ir"
  },
  "language_info": {
   "codemirror_mode": "r",
   "file_extension": ".r",
   "mimetype": "text/x-r-source",
   "name": "R",
   "pygments_lexer": "r",
   "version": "3.5.0"
  }
 },
 "nbformat": 4,
 "nbformat_minor": 2
}
